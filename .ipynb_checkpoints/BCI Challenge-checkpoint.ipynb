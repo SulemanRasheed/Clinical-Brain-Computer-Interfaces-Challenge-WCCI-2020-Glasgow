{
 "cells": [
  {
   "cell_type": "markdown",
   "metadata": {},
   "source": [
    "### Go through Readme file "
   ]
  },
  {
   "cell_type": "markdown",
   "metadata": {},
   "source": [
    "## Description of the dataset\n",
    "There is a training and evaluation file for each patients. 2 competitions 'within subject' and 'cross subject'. As you open any training file for any participant (for example, file \"Parsed_P05T\", which is the training file for participant \"P05\") you will find two variables \"rawdata\" and \"labels\". \n",
    " \n",
    "### Raw EEG Data \n",
    "The variable \"rawdata\" is a 3-D matrix the dimensions of which are in the format \"noOfTrial X noOfChannels X noOfSamples\". \n",
    "1. The \"noOfTrials\" designates how many trials are there in the training file. Here, in all the training files noOfTrials=80 \n",
    "2. \"noOfChannels\" designates how many channels are used during the recording. Here, in all the files noOfChannels=12, which means there were 12 EEG channels during the recording. These channels are according to the 10-20 international system as follows in a serial manner: index1= F3,  index2= FC3,  index3= C3,  index4= CP3,  index5= P3,  index6= FCz,  index7= CPz,  index8= F4,  index9= FC4,  index10= C4, index11= CP4, index12= P4. \n",
    "3. noOfSamples which denotes the number of samples in each trial, which in this case is 4096. The explanation for this is that each trial is of 8 s long and the data was recorded with a sampling rate of 512 Hz. So, 8x512 = 4096. \n",
    "\n",
    "Thus rawdata(5, 10, :) contains the information about the activity of EEG channel C4 at 5th trial, rawdata(10, 5, :)  contains the information about the activity of EEG channel P3 at 10th trial and so on. Now, the variable \n",
    "\n",
    "### Labels\n",
    "\"labels\" is an 1-D array of dimension 80x1 containing the labels for individual trials in the training data. For example, label(1) contains the label for trial index 1 and label(80) contains the label for trial index 80. As there are two classes namely \"left motor attempt\" and \"right motor attempt\" labels are either '1' or '2', where '1' corresponds to the \"right motor attempt\" and 2 corresponds to the \"left motor attempt\". The same explanation goes for the evaluation or testing files with exceptions that the noOfTrials=40, which means the dimension of rawdata will be 40x12x4096 and there would no \"labels\" as it is to be predicted by the classifier trained on the training data."
   ]
  },
  {
   "cell_type": "code",
   "execution_count": 23,
   "metadata": {},
   "outputs": [],
   "source": [
    "import scipy\n",
    "from scipy.io import loadmat\n",
    "import numpy as np\n",
    "import pandas as pd"
   ]
  },
  {
   "cell_type": "code",
   "execution_count": 26,
   "metadata": {},
   "outputs": [
    {
     "data": {
      "text/plain": [
       "dict_keys(['__header__', '__version__', '__globals__', 'Labels', 'RawEEGData', 'cueAt', 'sampRate'])"
      ]
     },
     "execution_count": 26,
     "metadata": {},
     "output_type": "execute_result"
    }
   ],
   "source": [
    "# data related to first patient\n",
    "training_file_1 = r'parsed_P01T.mat'        # also has labels\n",
    "evaluation_file_1 = r'parsed_P01E.mat'      # don't have labels\n",
    "mat_data_t1 = loadmat(training_file_1)\n",
    "mat_data_e1 = loadmat(evaluation_file_1)\n",
    "mat_data_t1.keys()"
   ]
  },
  {
   "cell_type": "code",
   "execution_count": 29,
   "metadata": {},
   "outputs": [],
   "source": [
    "eeg_data_t1, labels_t1, fs = mat_data_t1['RawEEGData'], mat_data_t1['Labels'], mat_data_t1['sampRate']"
   ]
  },
  {
   "cell_type": "code",
   "execution_count": 32,
   "metadata": {},
   "outputs": [],
   "source": [
    "data, labels =  eeg_data_t1.copy(), labels_t1.copy()"
   ]
  },
  {
   "cell_type": "code",
   "execution_count": 40,
   "metadata": {},
   "outputs": [
    {
     "name": "stdout",
     "output_type": "stream",
     "text": [
      "Shape of EEG Data:  (80, 12, 4096) \t Shape of Labels:  (80, 1) \t Sampling Rate:  [[512]]\n"
     ]
    }
   ],
   "source": [
    "print('Shape of EEG Data: ', data.shape, '\\t Shape of Labels: ', labels.shape, '\\t Sampling Rate: ', fs)"
   ]
  },
  {
   "cell_type": "code",
   "execution_count": null,
   "metadata": {},
   "outputs": [],
   "source": []
  },
  {
   "cell_type": "code",
   "execution_count": null,
   "metadata": {},
   "outputs": [],
   "source": []
  },
  {
   "cell_type": "code",
   "execution_count": null,
   "metadata": {},
   "outputs": [],
   "source": []
  }
 ],
 "metadata": {
  "kernelspec": {
   "display_name": "Python 3",
   "language": "python",
   "name": "python3"
  },
  "language_info": {
   "codemirror_mode": {
    "name": "ipython",
    "version": 3
   },
   "file_extension": ".py",
   "mimetype": "text/x-python",
   "name": "python",
   "nbconvert_exporter": "python",
   "pygments_lexer": "ipython3",
   "version": "3.6.8"
  }
 },
 "nbformat": 4,
 "nbformat_minor": 4
}
